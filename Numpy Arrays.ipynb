{
 "cells": [
  {
   "cell_type": "markdown",
   "id": "0f5c3e2a-8b5b-4b77-8dde-cb8ecef5f2d1",
   "metadata": {},
   "source": [
    "Numpy Arrays"
   ]
  },
  {
   "cell_type": "code",
   "execution_count": 8,
   "id": "2476d3dc-be94-4c39-8b26-703740d83d20",
   "metadata": {},
   "outputs": [],
   "source": [
    "#import numpy library\n",
    "import numpy as np"
   ]
  },
  {
   "cell_type": "code",
   "execution_count": 10,
   "id": "31704871-6342-4313-b319-4eb977f7d735",
   "metadata": {},
   "outputs": [
    {
     "name": "stdout",
     "output_type": "stream",
     "text": [
      "[45 67 57 60]\n",
      "<class 'numpy.ndarray'>\n",
      "int32\n"
     ]
    }
   ],
   "source": [
    "x = np.array([45,67,57,60])\n",
    "print(x)\n",
    "print(type(x))\n",
    "print(x.dtype)"
   ]
  },
  {
   "cell_type": "code",
   "execution_count": 12,
   "id": "e19bcecb-1538-45da-b37e-211ee81c67f7",
   "metadata": {},
   "outputs": [
    {
     "name": "stdout",
     "output_type": "stream",
     "text": [
      "[45.  67.  57.   9.8]\n",
      "<class 'numpy.ndarray'>\n",
      "float64\n"
     ]
    }
   ],
   "source": [
    "x = np.array([45,67,57,9.8])\n",
    "print(x)\n",
    "print(type(x))\n",
    "print(x.dtype)"
   ]
  },
  {
   "cell_type": "code",
   "execution_count": 14,
   "id": "56a9373b-d4e5-4ddb-a873-65834b16f72f",
   "metadata": {},
   "outputs": [
    {
     "name": "stdout",
     "output_type": "stream",
     "text": [
      "['A' '67' '57' '9.8']\n",
      "<class 'numpy.ndarray'>\n",
      "<U32\n"
     ]
    }
   ],
   "source": [
    "x = np.array([\"A\",67,57,9.8])\n",
    "print(x)\n",
    "print(type(x))\n",
    "print(x.dtype)"
   ]
  },
  {
   "cell_type": "code",
   "execution_count": 16,
   "id": "7c4d14af-fdf4-4269-a252-4b660e54bfbe",
   "metadata": {},
   "outputs": [
    {
     "name": "stdout",
     "output_type": "stream",
     "text": [
      "[[20 23]\n",
      " [39 42]]\n",
      "<class 'numpy.ndarray'>\n",
      "(2, 2)\n"
     ]
    }
   ],
   "source": [
    "a2 = np.array([[20,23],[39,42]])\n",
    "print(a2)\n",
    "print(type(a2))\n",
    "print(a2.shape)"
   ]
  },
  {
   "cell_type": "code",
   "execution_count": 20,
   "id": "77cf3341-82b6-4ce1-9700-d292406d35be",
   "metadata": {},
   "outputs": [
    {
     "name": "stdout",
     "output_type": "stream",
     "text": [
      "[[10 20]\n",
      " [30 40]]\n",
      "(2, 2)\n"
     ]
    }
   ],
   "source": [
    "#Reshaping an array\n",
    "a = np.array([10,20,30,40])\n",
    "b = a.reshape(2,2)\n",
    "print(b)\n",
    "print(b.shape)"
   ]
  },
  {
   "cell_type": "code",
   "execution_count": 22,
   "id": "02b05877-78de-4afa-90dc-bc455f14126a",
   "metadata": {},
   "outputs": [
    {
     "name": "stdout",
     "output_type": "stream",
     "text": [
      "[34 35 36 37 38 39 40 41 42 43 44 45 46 47 48 49 50 51 52 53 54 55 56 57\n",
      " 58]\n"
     ]
    },
    {
     "data": {
      "text/plain": [
       "numpy.ndarray"
      ]
     },
     "execution_count": 22,
     "metadata": {},
     "output_type": "execute_result"
    }
   ],
   "source": [
    "# create an array with arange\n",
    "c = np.arange(34,59)\n",
    "print(c)\n",
    "type(c)"
   ]
  },
  {
   "cell_type": "code",
   "execution_count": 28,
   "id": "0561f060-88ec-4ecc-acc8-997318dea400",
   "metadata": {},
   "outputs": [
    {
     "name": "stdout",
     "output_type": "stream",
     "text": [
      "[1.3456  3.10987 4.91236]\n"
     ]
    },
    {
     "data": {
      "text/plain": [
       "array([1.35, 3.11, 4.91])"
      ]
     },
     "execution_count": 28,
     "metadata": {},
     "output_type": "execute_result"
    }
   ],
   "source": [
    "# use of around\n",
    "d = np.array([1.3456, 3.10987,4.91236])\n",
    "print(d)\n",
    "np.around(d,2)"
   ]
  },
  {
   "cell_type": "code",
   "execution_count": 39,
   "id": "63403565-7a56-46eb-8ec8-fe2cbf354a9c",
   "metadata": {},
   "outputs": [
    {
     "name": "stdout",
     "output_type": "stream",
     "text": [
      "[1.3456  3.10987 4.91236]\n",
      "[1.16 1.76 2.22]\n"
     ]
    }
   ],
   "source": [
    "#use of np.sqrt()\n",
    "a = np.array([1.3456, 3.10987,4.91236])\n",
    "print(a)\n",
    "print(np.around(np.sqrt(a),2))"
   ]
  },
  {
   "cell_type": "code",
   "execution_count": 43,
   "id": "5839ec0e-cfd7-4888-a82b-b216b70b1ec4",
   "metadata": {},
   "outputs": [
    {
     "name": "stdout",
     "output_type": "stream",
     "text": [
      "[[ 3.  4.  5.  8.]\n",
      " [ 7.  2.  8. nan]]\n",
      "float64\n",
      "(2, 4)\n"
     ]
    }
   ],
   "source": [
    "a1 = np.array([[3,4,5,8],[7,2,8,np.NAN]])\n",
    "print(a1)\n",
    "print(a1.dtype)\n",
    "print(a1.shape)"
   ]
  },
  {
   "cell_type": "code",
   "execution_count": null,
   "id": "5bccb167-2cbd-4453-bf8c-b47eaefee6f6",
   "metadata": {},
   "outputs": [],
   "source": [
    "a1 = np.array([[3,4,5,8],[7,2,8,np.NAN]])\n",
    "print(a1)\n",
    "print(a1.dtype)\n",
    "print(a1.shape)"
   ]
  },
  {
   "cell_type": "code",
   "execution_count": 47,
   "id": "0e2742a1-9b89-4e3b-bbdf-ffcb30d870dd",
   "metadata": {},
   "outputs": [
    {
     "name": "stdout",
     "output_type": "stream",
     "text": [
      "[['3.0' '4.0' '5.0' '8.0']\n",
      " ['7.0' '2.0' '8.0' 'nan']]\n"
     ]
    },
    {
     "data": {
      "text/plain": [
       "dtype('<U32')"
      ]
     },
     "execution_count": 47,
     "metadata": {},
     "output_type": "execute_result"
    }
   ],
   "source": [
    "a1_copy1 = a1.astype(str)\n",
    "print(a1_copy1)\n",
    "a1_copy1.dtype"
   ]
  },
  {
   "cell_type": "code",
   "execution_count": 49,
   "id": "8caba281-c2a4-4694-a39c-45c6ce96c7a6",
   "metadata": {},
   "outputs": [
    {
     "data": {
      "text/plain": [
       "array([[ 3,  4,  6],\n",
       "       [ 7,  9, 10],\n",
       "       [ 4,  6, 12]])"
      ]
     },
     "execution_count": 49,
     "metadata": {},
     "output_type": "execute_result"
    }
   ],
   "source": [
    "a2 = np.array([[3,4,6],[7,9,10],[4,6,12]])\n",
    "a2"
   ]
  },
  {
   "cell_type": "code",
   "execution_count": 51,
   "id": "a0c47e0a-1a11-45c3-ba6e-1fd0ecc01c9a",
   "metadata": {},
   "outputs": [
    {
     "name": "stdout",
     "output_type": "stream",
     "text": [
      "[[ 3  4  6]\n",
      " [ 7  9 10]\n",
      " [ 4  6 12]]\n",
      "[14 19 28]\n"
     ]
    }
   ],
   "source": [
    "a2 = np.array([[3,4,6],[7,9,10],[4,6,12]])\n",
    "print(a2)\n",
    "a3 = np.sum(a1,axis = 1)\n",
    "a3 = np.sum(a2,axis = 0)\n",
    "print(a3)"
   ]
  },
  {
   "cell_type": "code",
   "execution_count": 55,
   "id": "d862ff4e-55c0-4efe-a098-e3956c00fd5e",
   "metadata": {},
   "outputs": [
    {
     "name": "stdout",
     "output_type": "stream",
     "text": [
      "[[ 3  4  6]\n",
      " [ 7  9 10]\n",
      " [ 4  6 12]]\n",
      "[4.66666667 6.33333333 9.33333333]\n",
      "[4.33333333 8.66666667 7.33333333]\n"
     ]
    }
   ],
   "source": [
    "print(a2)\n",
    "print(np.mean(a2,axis = 0))\n",
    "print(np.mean(a2,axis = 1))"
   ]
  },
  {
   "cell_type": "code",
   "execution_count": 57,
   "id": "9d2215f4-1702-4631-bfca-c1aeb5499622",
   "metadata": {},
   "outputs": [
    {
     "name": "stdout",
     "output_type": "stream",
     "text": [
      "[[ 3  4  5]\n",
      " [ 7  2 10]\n",
      " [ 4  9 12]]\n",
      "[[ 0  4  5]\n",
      " [ 7  0 10]\n",
      " [ 4  9  0]]\n"
     ]
    }
   ],
   "source": [
    "a5 = np.array([[3,4,5],[7,2,10],[4,9,12]])\n",
    "print(a5)\n",
    "np.fill_diagonal(a5,0)\n",
    "print(a5)"
   ]
  },
  {
   "cell_type": "code",
   "execution_count": 59,
   "id": "7da5bf4c-6055-4fdf-bddf-ee7deae1767a",
   "metadata": {},
   "outputs": [
    {
     "name": "stdout",
     "output_type": "stream",
     "text": [
      "[[2727 3043]\n",
      " [5064 5703]]\n"
     ]
    }
   ],
   "source": [
    "A = np.array([[20,23],[39,42]])\n",
    "B = np.array([[34,59],[89,81]])\n",
    "c = np.matmul(A,B)\n",
    "print(c)"
   ]
  },
  {
   "cell_type": "code",
   "execution_count": 61,
   "id": "660f354e-e8c1-471f-8d4a-75f3bd4bab9e",
   "metadata": {},
   "outputs": [
    {
     "name": "stdout",
     "output_type": "stream",
     "text": [
      "[[20 39]\n",
      " [23 42]]\n",
      "[[34 89]\n",
      " [59 81]]\n"
     ]
    }
   ],
   "source": [
    "print(A.T)\n",
    "print(B.T)"
   ]
  },
  {
   "cell_type": "code",
   "execution_count": 65,
   "id": "99544bb8-1751-4d2b-9dd0-7c976f31eda3",
   "metadata": {},
   "outputs": [
    {
     "data": {
      "text/plain": [
       "array([[ 3,  4,  5],\n",
       "       [ 7,  2, 10],\n",
       "       [ 4,  9, 12]])"
      ]
     },
     "execution_count": 65,
     "metadata": {},
     "output_type": "execute_result"
    }
   ],
   "source": [
    "a5 = np.array([[3,4,5],[7,2,10],[4,9,12]])\n",
    "a5"
   ]
  },
  {
   "cell_type": "code",
   "execution_count": 67,
   "id": "97b8a822-aeb8-4448-a070-dd6f06612721",
   "metadata": {},
   "outputs": [
    {
     "data": {
      "text/plain": [
       "2"
      ]
     },
     "execution_count": 67,
     "metadata": {},
     "output_type": "execute_result"
    }
   ],
   "source": [
    "a5[1][1]"
   ]
  },
  {
   "cell_type": "code",
   "execution_count": 71,
   "id": "223bb3d1-e802-4280-993d-cbe2ff1dbfa1",
   "metadata": {},
   "outputs": [
    {
     "data": {
      "text/plain": [
       "12"
      ]
     },
     "execution_count": 71,
     "metadata": {},
     "output_type": "execute_result"
    }
   ],
   "source": [
    "a5[2][2]"
   ]
  },
  {
   "cell_type": "code",
   "execution_count": 73,
   "id": "ecafb179-af8a-4fb2-8253-f3a36d8bd29f",
   "metadata": {},
   "outputs": [
    {
     "data": {
      "text/plain": [
       "array([[7, 2]])"
      ]
     },
     "execution_count": 73,
     "metadata": {},
     "output_type": "execute_result"
    }
   ],
   "source": [
    "a5[1:2,0:2]"
   ]
  }
 ],
 "metadata": {
  "kernelspec": {
   "display_name": "Python [conda env:base] *",
   "language": "python",
   "name": "conda-base-py"
  },
  "language_info": {
   "codemirror_mode": {
    "name": "ipython",
    "version": 3
   },
   "file_extension": ".py",
   "mimetype": "text/x-python",
   "name": "python",
   "nbconvert_exporter": "python",
   "pygments_lexer": "ipython3",
   "version": "3.12.7"
  }
 },
 "nbformat": 4,
 "nbformat_minor": 5
}
