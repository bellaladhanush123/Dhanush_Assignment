{
 "cells": [
  {
   "cell_type": "code",
   "execution_count": 1,
   "id": "4126093e-b22c-41e4-8e70-1847601915bc",
   "metadata": {},
   "outputs": [],
   "source": [
    "#Import numpy library \n",
    "import numpy as np"
   ]
  },
  {
   "cell_type": "code",
   "execution_count": 5,
   "id": "c95557fe-b684-42e5-a0ff-5e031dbdca0e",
   "metadata": {},
   "outputs": [
    {
     "name": "stdout",
     "output_type": "stream",
     "text": [
      "['A' '67' '57' '9.8']\n",
      "<class 'numpy.ndarray'>\n",
      "<U32\n"
     ]
    }
   ],
   "source": [
    "#verify the datatype\n",
    "x=np.array([\"A\",67,57,9.8]) \n",
    "print(x) \n",
    "print(type(x)) \n",
    "print(x.dtype)"
   ]
  },
  {
   "cell_type": "code",
   "execution_count": 13,
   "id": "e67ccf3e-a69d-423e-be5e-1be26092c73c",
   "metadata": {},
   "outputs": [
    {
     "name": "stdout",
     "output_type": "stream",
     "text": [
      "[[20 40]\n",
      " [30 60]]\n",
      "<class 'numpy.ndarray'>\n",
      "(2, 2)\n"
     ]
    }
   ],
   "source": [
    "#Create a 2D array \n",
    "a=np.array([[20,40],[30,60]]) \n",
    "print(a) \n",
    "print(type(a))\n",
    "print(a.shape)"
   ]
  },
  {
   "cell_type": "code",
   "execution_count": 29,
   "id": "711cb8f7-0495-4e95-90e7-f22f81ecbffc",
   "metadata": {},
   "outputs": [
    {
     "name": "stdout",
     "output_type": "stream",
     "text": [
      "[[10 20]\n",
      " [30 40]]\n",
      "(2, 2)\n"
     ]
    }
   ],
   "source": [
    "#Reshaping the array \n",
    "a=np.array([10,20,30,40,]) \n",
    "b=a.reshape(2,2)\n",
    "print(b) \n",
    "print(b.shape)"
   ]
  },
  {
   "cell_type": "code",
   "execution_count": 35,
   "id": "ff59ac2a-e577-4ce0-b73b-ddb492ebd9ac",
   "metadata": {},
   "outputs": [
    {
     "name": "stdout",
     "output_type": "stream",
     "text": [
      "[3 4 5 6 7 8 9]\n"
     ]
    },
    {
     "data": {
      "text/plain": [
       "numpy.ndarray"
      ]
     },
     "execution_count": 35,
     "metadata": {},
     "output_type": "execute_result"
    }
   ],
   "source": [
    "#Create an array with arange()\n",
    "c=np.arange(3,10) \n",
    "print(c) \n",
    "type(c)"
   ]
  },
  {
   "cell_type": "code",
   "execution_count": 39,
   "id": "44db3dec-7b9e-4f33-80ec-23c638ce1932",
   "metadata": {},
   "outputs": [
    {
     "name": "stdout",
     "output_type": "stream",
     "text": [
      "[1.3678 4.1983]\n"
     ]
    },
    {
     "data": {
      "text/plain": [
       "array([1.37, 4.2 ])"
      ]
     },
     "execution_count": 39,
     "metadata": {},
     "output_type": "execute_result"
    }
   ],
   "source": [
    "#Use of around() \n",
    "d=np.array([1.3678,4.1983])\n",
    "print(d)\n",
    "np.around(d,2)"
   ]
  },
  {
   "cell_type": "code",
   "execution_count": 44,
   "id": "5640ce77-17e1-4605-b614-de4eccdff360",
   "metadata": {},
   "outputs": [
    {
     "name": "stdout",
     "output_type": "stream",
     "text": [
      "[[ 3.  4.  5.  8.]\n",
      " [ 7.  2.  8. nan]]\n",
      "float64\n"
     ]
    }
   ],
   "source": [
    "a1=np.array([[3,4,5,8],[7,2,8,np.NAN]]) \n",
    "print(a1) \n",
    "print(a1.dtype)"
   ]
  },
  {
   "cell_type": "code",
   "execution_count": 48,
   "id": "5b9cf430-6834-4fea-99e5-858912c4fe34",
   "metadata": {},
   "outputs": [
    {
     "name": "stdout",
     "output_type": "stream",
     "text": [
      "[['3.0' '4.0' '5.0' '8.0']\n",
      " ['7.0' '2.0' '8.0' 'nan']]\n"
     ]
    },
    {
     "data": {
      "text/plain": [
       "dtype('<U32')"
      ]
     },
     "execution_count": 48,
     "metadata": {},
     "output_type": "execute_result"
    }
   ],
   "source": [
    "#Use of astype() to convert data type \n",
    "a1_copy=a1.astype(str) \n",
    "print(a1_copy)\n",
    "a1_copy.dtype"
   ]
  },
  {
   "cell_type": "code",
   "execution_count": 50,
   "id": "4b96e4a7-fed4-48e9-8da5-bf3ac90ba9e6",
   "metadata": {},
   "outputs": [
    {
     "data": {
      "text/plain": [
       "array([[ 3,  4,  6],\n",
       "       [ 7,  8, 10],\n",
       "       [ 4,  6, 12]])"
      ]
     },
     "execution_count": 50,
     "metadata": {},
     "output_type": "execute_result"
    }
   ],
   "source": [
    "#mathematical opearations on rows and cols \n",
    "a2=np.array([[3,4,6],[7,8,10],[4,6,12]]) \n",
    "a2"
   ]
  },
  {
   "cell_type": "code",
   "execution_count": 52,
   "id": "7eb594e2-2203-4c60-9376-bdb48ff77c0e",
   "metadata": {},
   "outputs": [
    {
     "data": {
      "text/plain": [
       "array([[3, 4, 5],\n",
       "       [7, 2, 8],\n",
       "       [9, 1, 6]])"
      ]
     },
     "execution_count": 52,
     "metadata": {},
     "output_type": "execute_result"
    }
   ],
   "source": [
    "a3=np.array([[3,4,5],[7,2,8],[9,1,6]]) \n",
    "a3"
   ]
  },
  {
   "cell_type": "code",
   "execution_count": 54,
   "id": "cf0a69ce-84c7-423b-8d43-b11349cc2af7",
   "metadata": {},
   "outputs": [
    {
     "name": "stdout",
     "output_type": "stream",
     "text": [
      "[[3 4 5]\n",
      " [7 2 8]\n",
      " [9 1 6]]\n",
      "[[0 4 5]\n",
      " [7 0 8]\n",
      " [9 1 0]]\n"
     ]
    }
   ],
   "source": [
    "a3=np.array([[3,4,5],[7,2,8],[9,1,6]]) \n",
    "print(a3) \n",
    "np.fill_diagonal(a3,0) \n",
    "print(a3)"
   ]
  },
  {
   "cell_type": "code",
   "execution_count": 58,
   "id": "ff3bb062-fccc-4f4e-8b41-10d313f80505",
   "metadata": {},
   "outputs": [
    {
     "name": "stdout",
     "output_type": "stream",
     "text": [
      "[[1 3]\n",
      " [2 4]]\n",
      "[[5 7]\n",
      " [6 8]]\n"
     ]
    }
   ],
   "source": [
    "#Print the transpose of the matrix\n",
    "a=np.array([[1,2],[3,4]])\n",
    "b=np.array([[5,6],[7,8]]) \n",
    "\n",
    "print(a.T) \n",
    "print(b.T)"
   ]
  },
  {
   "cell_type": "code",
   "execution_count": null,
   "id": "cc6e7684-033e-4ad7-8a09-1d6b8df0b886",
   "metadata": {},
   "outputs": [],
   "source": [
    "#Accessing the array elements \n",
    "a4=np.array([[3,4,5],[7,2,8],[9,1,6"
   ]
  }
 ],
 "metadata": {
  "kernelspec": {
   "display_name": "Python [conda env:anaconda3]",
   "language": "python",
   "name": "conda-env-anaconda3-py"
  },
  "language_info": {
   "codemirror_mode": {
    "name": "ipython",
    "version": 3
   },
   "file_extension": ".py",
   "mimetype": "text/x-python",
   "name": "python",
   "nbconvert_exporter": "python",
   "pygments_lexer": "ipython3",
   "version": "3.12.7"
  }
 },
 "nbformat": 4,
 "nbformat_minor": 5
}
