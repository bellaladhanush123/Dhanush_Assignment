{
 "cells": [
  {
   "cell_type": "code",
   "execution_count": 5,
   "id": "180bc5a8-2420-4280-afdb-b31628f2fdbe",
   "metadata": {},
   "outputs": [
    {
     "name": "stdin",
     "output_type": "stream",
     "text": [
      " 20\n"
     ]
    },
    {
     "name": "stdout",
     "output_type": "stream",
     "text": [
      "Even\n"
     ]
    }
   ],
   "source": [
    "num = int(input())\n",
    "if num%2 == 0:\n",
    "    print(\"Even\")\n",
    "else:\n",
    "    print(\"Odd\")"
   ]
  },
  {
   "cell_type": "code",
   "execution_count": 7,
   "id": "99196c0a-33b0-4ae2-a515-996bca7878cd",
   "metadata": {},
   "outputs": [
    {
     "name": "stdin",
     "output_type": "stream",
     "text": [
      " 20\n"
     ]
    },
    {
     "name": "stdout",
     "output_type": "stream",
     "text": [
      "Even\n"
     ]
    }
   ],
   "source": [
    "n = int(input(\"\"))\n",
    "print(\"Even\" if n%2==0 else \"Odd\")"
   ]
  },
  {
   "cell_type": "code",
   "execution_count": 8,
   "id": "43d83906-4a6d-49df-8ef9-73c8d6c68e34",
   "metadata": {},
   "outputs": [
    {
     "name": "stdin",
     "output_type": "stream",
     "text": [
      "Enter the age: 52\n"
     ]
    },
    {
     "name": "stdout",
     "output_type": "stream",
     "text": [
      "Adult\n"
     ]
    }
   ],
   "source": [
    "age = int(input(\"Enter the age:\"))\n",
    "print(\"Adult\" if  age>=18 else \"Minor\")"
   ]
  },
  {
   "cell_type": "code",
   "execution_count": 13,
   "id": "723546e1-ac25-4894-a8c4-e56f4a4c2cf8",
   "metadata": {},
   "outputs": [
    {
     "name": "stdin",
     "output_type": "stream",
     "text": [
      " 25\n"
     ]
    },
    {
     "name": "stdout",
     "output_type": "stream",
     "text": [
      "Positive\n"
     ]
    }
   ],
   "source": [
    "n = int(input())\n",
    "result = \"Positive\" if n>0 else (\"Negative\" if num < 0 else \"Zero\")\n",
    "print(result)"
   ]
  },
  {
   "cell_type": "code",
   "execution_count": 20,
   "id": "8af05fa8-95ce-4ece-b8d2-b90fbe43ff3e",
   "metadata": {},
   "outputs": [
    {
     "name": "stdout",
     "output_type": "stream",
     "text": [
      "1 1 51 "
     ]
    }
   ],
   "source": [
    "#Comprehension\n",
    "#List Comprehension\n",
    "lst = [10,20,1,2,1,40,51]\n",
    "lst2 = [t for t in lst if t%2 != 0]\n",
    "for i in lst2:\n",
    "    print(i, end= \" \")"
   ]
  },
  {
   "cell_type": "code",
   "execution_count": 16,
   "id": "1801fc37-3022-45e9-b13d-2d60d7af24e0",
   "metadata": {},
   "outputs": [
    {
     "name": "stdout",
     "output_type": "stream",
     "text": [
      "A 300\n",
      "B 105\n"
     ]
    }
   ],
   "source": [
    "#Dictionary comprehension\n",
    "dct = {\"A\":100,\"B\":35}\n",
    "dct2 = {t:k*3 for t, k in dct.items()}\n",
    "for t,k in dct2.items():\n",
    "    print(t,k)"
   ]
  },
  {
   "cell_type": "code",
   "execution_count": 37,
   "id": "149cd543-6ad3-4202-8fcf-b649765d0d8d",
   "metadata": {},
   "outputs": [
    {
     "name": "stdout",
     "output_type": "stream",
     "text": [
      "[27600.0, 54000.0]\n",
      "[27600.0, 54000.0, 56900, 66800, 560000]\n"
     ]
    }
   ],
   "source": [
    "salary = [23000,45000,560000,66800,56900]\n",
    "highsalary = [(t+((20*t)/100)) for t in salary if t < 50000]\n",
    "print(highsalary)\n",
    "for i in salary:\n",
    "    for j in salary:\n",
    "        if j < 50000:\n",
    "            salary.remove(j)\n",
    "\n",
    "print(sorted(salary+highsalary))"
   ]
  },
  {
   "cell_type": "code",
   "execution_count": 40,
   "id": "91d42651-6e67-40f9-9e5b-c0beaf08120e",
   "metadata": {},
   "outputs": [
    {
     "name": "stdout",
     "output_type": "stream",
     "text": [
      "{'Rahul': 13.25, 'Ravi': 13.75}\n",
      "Rahul 13.25\n",
      "Ravi 13.75\n"
     ]
    }
   ],
   "source": [
    "dct = {\"Rahul\" : [12,13,14,14],\"Ravi\":[10,15,15,15]}\n",
    "dct2 = {t:(sum(k)/len(k)) for t,k in dct.items() }\n",
    "print(dct2)\n",
    "for t,k in dct2.items():\n",
    "    print(t,k)"
   ]
  },
  {
   "cell_type": "code",
   "execution_count": 59,
   "id": "f252fc71-4c19-4205-8f26-68ea06d77f29",
   "metadata": {},
   "outputs": [
    {
     "data": {
      "text/plain": [
       "'72101108112 77101'"
      ]
     },
     "execution_count": 59,
     "metadata": {},
     "output_type": "execute_result"
    }
   ],
   "source": [
    "def secret_code(message):\n",
    "    code = []\n",
    "    for i in message:\n",
    "        if i == \" \":\n",
    "            code.append(i)\n",
    "        else:\n",
    "            code.append(str(ord(i)))\n",
    "    return \"\".join(code)\n",
    "secret_code(\"Help Me\")"
   ]
  },
  {
   "cell_type": "code",
   "execution_count": 56,
   "id": "320af043-15a6-458c-91ee-c4a5ffe204e0",
   "metadata": {},
   "outputs": [
    {
     "name": "stdout",
     "output_type": "stream",
     "text": [
      "Good Morning, Abhinav!\n"
     ]
    }
   ],
   "source": [
    "def greet(message):\n",
    "    print(f\"Good Morning, {message}!\")\n",
    "greet(\"Abhinav\")"
   ]
  },
  {
   "cell_type": "code",
   "execution_count": 63,
   "id": "a2c25b6c-a89b-4b04-aa78-25b62c5ab285",
   "metadata": {},
   "outputs": [
    {
     "data": {
      "text/plain": [
       "57.0"
      ]
     },
     "execution_count": 63,
     "metadata": {},
     "output_type": "execute_result"
    }
   ],
   "source": [
    "def avg(*n):\n",
    "    return (sum(n)/len(n))\n",
    "avg(34,59,78)"
   ]
  },
  {
   "cell_type": "code",
   "execution_count": null,
   "id": "fd553427-8d8a-4865-a43d-828dc5ab9e2a",
   "metadata": {},
   "outputs": [],
   "source": []
  }
 ],
 "metadata": {
  "kernelspec": {
   "display_name": "Python 3 (ipykernel)",
   "language": "python",
   "name": "python3"
  },
  "language_info": {
   "codemirror_mode": {
    "name": "ipython",
    "version": 3
   },
   "file_extension": ".py",
   "mimetype": "text/x-python",
   "name": "python",
   "nbconvert_exporter": "python",
   "pygments_lexer": "ipython3",
   "version": "3.12.7"
  }
 },
 "nbformat": 4,
 "nbformat_minor": 5
}
