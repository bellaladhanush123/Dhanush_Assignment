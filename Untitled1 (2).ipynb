{
 "cells": [
  {
   "cell_type": "code",
   "execution_count": 1,
   "id": "dfe32c4d-dabc-4b34-a1cc-254a87c20f99",
   "metadata": {},
   "outputs": [
    {
     "name": "stdout",
     "output_type": "stream",
     "text": [
      "Even\n"
     ]
    }
   ],
   "source": [
    "# Conventional IF-ELSE conditons\n",
    "num=6 \n",
    "if num%2==0:\n",
    "    print(\"Even\")\n",
    "else:\n",
    "    print(\"Odd\")"
   ]
  },
  {
   "cell_type": "code",
   "execution_count": 19,
   "id": "b832a084-758e-40d3-938e-044a7af9c1bb",
   "metadata": {},
   "outputs": [
    {
     "name": "stdout",
     "output_type": "stream",
     "text": [
      "Divisible by 2\n"
     ]
    }
   ],
   "source": [
    "#Nested IF-ELSE conditions\n",
    "#Ex.1\n",
    "num_1=2 \n",
    "num_2=4\n",
    "if num_1==num_2:\n",
    "    print(\"Equal\")\n",
    "elif num_1 % num_2:\n",
    "    print(\"Divisible by 2\") \n",
    "\n",
    "else:\n",
    "    print(\"Not Equal\") \n"
   ]
  },
  {
   "cell_type": "code",
   "execution_count": 21,
   "id": "07bb186e-f833-4d7a-943f-0d8f770ca753",
   "metadata": {},
   "outputs": [
    {
     "name": "stdin",
     "output_type": "stream",
     "text": [
      "Enter an integer: -200\n"
     ]
    },
    {
     "name": "stdout",
     "output_type": "stream",
     "text": [
      "Negative\n"
     ]
    }
   ],
   "source": [
    "#Ex.2 \n",
    "a=int(input(\"Enter an integer:\")) \n",
    "if a>0:\n",
    "    print(\"Positive\") \n",
    "else:\n",
    "    print(\"Negative\")"
   ]
  },
  {
   "cell_type": "code",
   "execution_count": 25,
   "id": "9d1a276a-ba21-406f-ae82-a6574c060525",
   "metadata": {},
   "outputs": [
    {
     "data": {
      "text/plain": [
       "[68, 20]"
      ]
     },
     "execution_count": 25,
     "metadata": {},
     "output_type": "execute_result"
    }
   ],
   "source": [
    "#list comprehension \n",
    "l=[34,29,67,89,10] \n",
    "[2*x for x in l if x%2==0] \n"
   ]
  },
  {
   "cell_type": "code",
   "execution_count": 55,
   "id": "9caf6a3d-dce5-4c45-bd93-b8c65716d6fd",
   "metadata": {},
   "outputs": [
    {
     "data": {
      "text/plain": [
       "[36000.0, 85000, 67000, 36000.0]"
      ]
     },
     "execution_count": 55,
     "metadata": {},
     "output_type": "execute_result"
    }
   ],
   "source": [
    "#print salaries <=50000 \n",
    "sal=[30000,85000,67000,30000]\n",
    "[(x*1.2 if x<=50000 else x) for x in sal] \n"
   ]
  },
  {
   "cell_type": "code",
   "execution_count": 65,
   "id": "66f4cd6d-bad9-4bb4-b429-8410f5a76192",
   "metadata": {},
   "outputs": [
    {
     "data": {
      "text/plain": [
       "{'Raju': 89.0, 'jithu': 64.0}"
      ]
     },
     "execution_count": 65,
     "metadata": {},
     "output_type": "execute_result"
    }
   ],
   "source": [
    "#dictionary comprehension \n",
    "d1={'Raju':[89,100,75,92] ,'jithu':[56,78,93,29]}\n",
    "d1\n",
    "{k:sum(v)/len(v) for k,v in d1.items()}\n"
   ]
  },
  {
   "cell_type": "code",
   "execution_count": 75,
   "id": "abbce5b0-f2b8-4a91-95d8-39d38521f522",
   "metadata": {},
   "outputs": [],
   "source": [
    "#define function reusable \n",
    "def mean_value(given_list): \n",
    "    total=sum(given_list) \n",
    "    avg_value=total/len(given_list) \n",
    "    return avg_value"
   ]
  },
  {
   "cell_type": "code",
   "execution_count": 77,
   "id": "91d6baea-1159-4afa-aaeb-a6df08f01950",
   "metadata": {},
   "outputs": [
    {
     "data": {
      "text/plain": [
       "5.4"
      ]
     },
     "execution_count": 77,
     "metadata": {},
     "output_type": "execute_result"
    }
   ],
   "source": [
    "#call the function \n",
    "L=[1,3,4,9,10] \n",
    "mean_value(L)"
   ]
  },
  {
   "cell_type": "code",
   "execution_count": 89,
   "id": "b00830e2-3686-4114-b6f5-23b79c22b8a1",
   "metadata": {},
   "outputs": [],
   "source": [
    "#Greet with 'good morning' with ur name call the function with your name\n",
    "def greet(name):\n",
    "    print(f\"Good morning {name}!\")\n"
   ]
  },
  {
   "cell_type": "code",
   "execution_count": 91,
   "id": "55cba2b1-a3f7-47a8-b9c5-cb854d5fc5bd",
   "metadata": {},
   "outputs": [
    {
     "name": "stdout",
     "output_type": "stream",
     "text": [
      "Good morning Dhanush!\n"
     ]
    }
   ],
   "source": [
    "greet(\"Dhanush\")"
   ]
  },
  {
   "cell_type": "code",
   "execution_count": 95,
   "id": "db8d76f5-4256-4230-9716-79e2b3bc1e33",
   "metadata": {},
   "outputs": [],
   "source": [
    "#function with variable no.of arguments \n",
    "def avg_values(*n):\n",
    "    l=len(n)\n",
    "    avg=sum(n)/l\n",
    "    return avg"
   ]
  },
  {
   "cell_type": "code",
   "execution_count": 97,
   "id": "1bbf4bb4-0786-483f-9827-7f3fb4150714",
   "metadata": {},
   "outputs": [
    {
     "data": {
      "text/plain": [
       "56.666666666666664"
      ]
     },
     "execution_count": 97,
     "metadata": {},
     "output_type": "execute_result"
    }
   ],
   "source": [
    "avg_values(10,60,100,)"
   ]
  },
  {
   "cell_type": "code",
   "execution_count": null,
   "id": "979d0c84-5d4c-4e88-9014-d66bc9d7d8eb",
   "metadata": {},
   "outputs": [],
   "source": []
  }
 ],
 "metadata": {
  "kernelspec": {
   "display_name": "Python [conda env:anaconda3]",
   "language": "python",
   "name": "conda-env-anaconda3-py"
  },
  "language_info": {
   "codemirror_mode": {
    "name": "ipython",
    "version": 3
   },
   "file_extension": ".py",
   "mimetype": "text/x-python",
   "name": "python",
   "nbconvert_exporter": "python",
   "pygments_lexer": "ipython3",
   "version": "3.12.7"
  }
 },
 "nbformat": 4,
 "nbformat_minor": 5
}
