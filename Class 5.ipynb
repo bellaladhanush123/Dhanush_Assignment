{
 "cells": [
  {
   "cell_type": "code",
   "execution_count": 1,
   "id": "cbfb9f85-0a2d-4f1c-a8e9-9e9c96b1ba51",
   "metadata": {},
   "outputs": [
    {
     "name": "stdout",
     "output_type": "stream",
     "text": [
      "even\n"
     ]
    }
   ],
   "source": [
    "num = 6\n",
    "if num %2 == 0:\n",
    "    print(\"even\")\n",
    "else:\n",
    "    print(\"odd\")"
   ]
  },
  {
   "cell_type": "code",
   "execution_count": 3,
   "id": "39a2f890-14bb-4dae-a0ce-e9a9d403a46e",
   "metadata": {},
   "outputs": [
    {
     "name": "stdout",
     "output_type": "stream",
     "text": [
      "even\n"
     ]
    }
   ],
   "source": [
    "print(\"even\") if num %2 == 0 else print(\"odd\")"
   ]
  },
  {
   "cell_type": "code",
   "execution_count": 7,
   "id": "7bbead83-77fc-4297-a175-f77353b56699",
   "metadata": {},
   "outputs": [
    {
     "name": "stdout",
     "output_type": "stream",
     "text": [
      "Positive\n"
     ]
    }
   ],
   "source": [
    "x = 10\n",
    "result = \"Positive\" if x > 0 else \"Negative\"\n",
    "print(result)"
   ]
  },
  {
   "cell_type": "code",
   "execution_count": 9,
   "id": "9b1d31d9-e4c3-49d6-94ea-9d227b0d6361",
   "metadata": {},
   "outputs": [
    {
     "name": "stdin",
     "output_type": "stream",
     "text": [
      "Enter a number:  -400\n"
     ]
    },
    {
     "name": "stdout",
     "output_type": "stream",
     "text": [
      "Negative\n"
     ]
    }
   ],
   "source": [
    "num = int(input(\"Enter a number: \"))\n",
    "result = \"Positive\" if num > 0 else (\"Negative\" if num < 0 else \"Zero\")\n",
    "print(result)"
   ]
  },
  {
   "cell_type": "code",
   "execution_count": 11,
   "id": "89b530e1-1256-464a-8016-d5b516c2d108",
   "metadata": {},
   "outputs": [
    {
     "data": {
      "text/plain": [
       "[2, 6, 10, 14, 18, 88, 132, 178, 70]"
      ]
     },
     "execution_count": 11,
     "metadata": {},
     "output_type": "execute_result"
    }
   ],
   "source": [
    "L =[1,3,5,7,9,44,66,89,35]\n",
    "[2*x for x in L ]"
   ]
  },
  {
   "cell_type": "code",
   "execution_count": 13,
   "id": "94ff329a-3121-4367-a208-5da776a14e14",
   "metadata": {},
   "outputs": [
    {
     "data": {
      "text/plain": [
       "[44, 66]"
      ]
     },
     "execution_count": 13,
     "metadata": {},
     "output_type": "execute_result"
    }
   ],
   "source": [
    "# print even numbers\n",
    "L =[1,3,5,7,9,44,66,89,35]\n",
    "[x for x in L if x%2 == 0]"
   ]
  },
  {
   "cell_type": "code",
   "execution_count": 15,
   "id": "e5ec9e19-80f2-408c-84c3-803782755996",
   "metadata": {},
   "outputs": [
    {
     "data": {
      "text/plain": [
       "[1, 3, 5, 7, 9, 89, 35]"
      ]
     },
     "execution_count": 15,
     "metadata": {},
     "output_type": "execute_result"
    }
   ],
   "source": [
    "L =[1,3,5,7,9,44,66,89,35]\n",
    "[x for x in L if x%2 != 0]\n"
   ]
  },
  {
   "cell_type": "code",
   "execution_count": 31,
   "id": "4dd346f4-c1f5-4580-b60b-c9358b2f8d64",
   "metadata": {},
   "outputs": [
    {
     "name": "stdout",
     "output_type": "stream",
     "text": [
      "[48000.0, 60000, 80000, 54000.0]\n"
     ]
    }
   ],
   "source": [
    "sal = [40000, 60000, 80000, 45000]\n",
    "updated_sal = [x * 1.2 if x <= 50000 else x for x in sal]\n",
    "print(updated_sal)"
   ]
  },
  {
   "cell_type": "code",
   "execution_count": 35,
   "id": "f82c44e8-9c3d-4c6c-8800-baa42e7da562",
   "metadata": {},
   "outputs": [
    {
     "data": {
      "text/plain": [
       "{'Ram': [70, 71, 98, 100], 'John': [56, 98, 67, 65], 'Neelu': [54, 34, 23, 77]}"
      ]
     },
     "execution_count": 35,
     "metadata": {},
     "output_type": "execute_result"
    }
   ],
   "source": [
    "d1 = {'Ram':[70,71,98,100], 'John':[56,98,67,65], 'Neelu': [54, 34, 23, 77]}\n",
    "d1"
   ]
  },
  {
   "cell_type": "code",
   "execution_count": 37,
   "id": "0a60ee5e-13a5-442c-8387-a9117bc3ea32",
   "metadata": {},
   "outputs": [
    {
     "data": {
      "text/plain": [
       "{'Ram': 84.75, 'John': 71.5, 'Neelu': 47.0}"
      ]
     },
     "execution_count": 37,
     "metadata": {},
     "output_type": "execute_result"
    }
   ],
   "source": [
    "{k:sum(v)/len(v) for k,v in d1.items()}"
   ]
  },
  {
   "cell_type": "code",
   "execution_count": 43,
   "id": "003ca10f-4f49-4beb-ab9b-603d36ea099a",
   "metadata": {},
   "outputs": [],
   "source": [
    "def mean_value(given_list):\n",
    "    total = sum(given_list)\n",
    "    average_value = total/len(given_list)\n",
    "    return average_value"
   ]
  },
  {
   "cell_type": "code",
   "execution_count": 45,
   "id": "fd40bab1-5f40-4d42-af53-8f87db2b9fb8",
   "metadata": {},
   "outputs": [
    {
     "data": {
      "text/plain": [
       "5.5"
      ]
     },
     "execution_count": 45,
     "metadata": {},
     "output_type": "execute_result"
    }
   ],
   "source": [
    "L = [1,2,3,4,5,6,7,8,9,10]\n",
    "mean_value(L)"
   ]
  },
  {
   "cell_type": "code",
   "execution_count": 65,
   "id": "40117ec3-acb0-4603-98ca-812628a1330b",
   "metadata": {},
   "outputs": [],
   "source": [
    "# Greetings\n",
    "def greet(name = \"Niharika\"):\n",
    "    print(f\"Good Morning {name}!\")"
   ]
  },
  {
   "cell_type": "code",
   "execution_count": 67,
   "id": "c8ccf181-0d7f-46fc-b5b4-e77f6b971a0c",
   "metadata": {},
   "outputs": [
    {
     "name": "stdout",
     "output_type": "stream",
     "text": [
      "Good Morning Niharika!\n"
     ]
    }
   ],
   "source": [
    "greet()"
   ]
  },
  {
   "cell_type": "code",
   "execution_count": 73,
   "id": "114724b7-0953-4c6c-980c-32853ece174f",
   "metadata": {},
   "outputs": [],
   "source": [
    "def avg_value(*n):\n",
    "    l = len(n)\n",
    "    average = sum(n)/1\n",
    "    return average"
   ]
  },
  {
   "cell_type": "code",
   "execution_count": 81,
   "id": "62adcc35-f997-47c2-9509-56bd074e2eed",
   "metadata": {},
   "outputs": [
    {
     "data": {
      "text/plain": [
       "-890.0"
      ]
     },
     "execution_count": 81,
     "metadata": {},
     "output_type": "execute_result"
    }
   ],
   "source": [
    "avg_value(10,20,30,-400,50,-600)"
   ]
  },
  {
   "cell_type": "code",
   "execution_count": null,
   "id": "508bb7a5-eb19-4330-892f-764f3081748f",
   "metadata": {},
   "outputs": [],
   "source": []
  }
 ],
 "metadata": {
  "kernelspec": {
   "display_name": "Python [conda env:base] *",
   "language": "python",
   "name": "conda-base-py"
  },
  "language_info": {
   "codemirror_mode": {
    "name": "ipython",
    "version": 3
   },
   "file_extension": ".py",
   "mimetype": "text/x-python",
   "name": "python",
   "nbconvert_exporter": "python",
   "pygments_lexer": "ipython3",
   "version": "3.12.7"
  }
 },
 "nbformat": 4,
 "nbformat_minor": 5
}
