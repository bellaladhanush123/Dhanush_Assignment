{
 "cells": [
  {
   "cell_type": "code",
   "execution_count": 3,
   "id": "f78c0ab9-703f-4c09-89c6-a9d81cfbd807",
   "metadata": {},
   "outputs": [
    {
     "data": {
      "text/plain": [
       "{'Virat': 90,\n",
       " 'Rahul': 80,\n",
       " 'Rohit': 70,\n",
       " 'Hardik': 60,\n",
       " 'Ashwin': 50,\n",
       " 'Jadeja': 40}"
      ]
     },
     "execution_count": 3,
     "metadata": {},
     "output_type": "execute_result"
    }
   ],
   "source": [
    "Scores = {'Virat':90,'Rahul':80,'Rohit':70,'Hardik':60,'Ashwin':50,'Jadeja':40}\n",
    "Scores\n",
    "         "
   ]
  },
  {
   "cell_type": "code",
   "execution_count": 7,
   "id": "4ed788cf-bfc7-40cb-baea-a44f61359e13",
   "metadata": {},
   "outputs": [
    {
     "data": {
      "text/plain": [
       "{'Virat': 90,\n",
       " 'Rahul': 80,\n",
       " 'Rohit': 70,\n",
       " 'Hardik': 60,\n",
       " 'Ashwin': 50,\n",
       " 'Jadeja': 100}"
      ]
     },
     "execution_count": 7,
     "metadata": {},
     "output_type": "execute_result"
    }
   ],
   "source": [
    "Scores.update({\"Jadeja\":100})\n",
    "Scores\n"
   ]
  },
  {
   "cell_type": "code",
   "execution_count": 9,
   "id": "6c54c352-59c9-46d2-93f8-ae2ba560b4b5",
   "metadata": {},
   "outputs": [
    {
     "data": {
      "text/plain": [
       "{'Virat': 90,\n",
       " 'Rahul': 80,\n",
       " 'Rohit': 70,\n",
       " 'Hardik': 25,\n",
       " 'Ashwin': 50,\n",
       " 'Jadeja': 100,\n",
       " 'Rahaney': 45}"
      ]
     },
     "execution_count": 9,
     "metadata": {},
     "output_type": "execute_result"
    }
   ],
   "source": [
    "Scores.update({\"Hardik\":25,\"Rahaney\":45})\n",
    "Scores\n",
    "\n"
   ]
  },
  {
   "cell_type": "code",
   "execution_count": 11,
   "id": "87f8202d-ecd0-4adb-af5c-5f9dba5885a3",
   "metadata": {},
   "outputs": [
    {
     "data": {
      "text/plain": [
       "{'Virat': 90,\n",
       " 'Rahul': 80,\n",
       " 'Rohit': 70,\n",
       " 'Hardik': 25,\n",
       " 'Ashwin': 50,\n",
       " 'Jadeja': 100,\n",
       " 'Rahaney': 45}"
      ]
     },
     "execution_count": 11,
     "metadata": {},
     "output_type": "execute_result"
    }
   ],
   "source": [
    "Scores.setdefault(\"Rahul\",60)\n",
    "Scores\n"
   ]
  },
  {
   "cell_type": "code",
   "execution_count": 13,
   "id": "03c5d825-9e80-4d08-8f60-06ca2e5ce8e1",
   "metadata": {},
   "outputs": [
    {
     "data": {
      "text/plain": [
       "{'Virat': 90,\n",
       " 'Rahul': 80,\n",
       " 'Rohit': 70,\n",
       " 'Hardik': 25,\n",
       " 'Ashwin': 50,\n",
       " 'Jadeja': 100,\n",
       " 'Rahaney': 45,\n",
       " 'Pujara': 55}"
      ]
     },
     "execution_count": 13,
     "metadata": {},
     "output_type": "execute_result"
    }
   ],
   "source": [
    "Scores.setdefault(\"Pujara\",55)\n",
    "Scores\n"
   ]
  },
  {
   "cell_type": "code",
   "execution_count": 23,
   "id": "5c7fe1ab-0d8d-4b95-8476-042e86fcf430",
   "metadata": {},
   "outputs": [
    {
     "data": {
      "text/plain": [
       "{'Virat': 90,\n",
       " 'Rahul': 80,\n",
       " 'Rohit': 70,\n",
       " 'Hardik': 25,\n",
       " 'Ashwin': 50,\n",
       " 'Jadeja': 100}"
      ]
     },
     "execution_count": 23,
     "metadata": {},
     "output_type": "execute_result"
    }
   ],
   "source": [
    "Scores.popitem()\n",
    "Scores"
   ]
  },
  {
   "cell_type": "code",
   "execution_count": 25,
   "id": "fa87ee8d-adf0-4c78-bc6f-e6ffd9c073ea",
   "metadata": {},
   "outputs": [
    {
     "data": {
      "text/plain": [
       "{'Virat': 90, 'Rahul': 80, 'Rohit': 70, 'Hardik': 25, 'Jadeja': 100}"
      ]
     },
     "execution_count": 25,
     "metadata": {},
     "output_type": "execute_result"
    }
   ],
   "source": [
    "Scores.pop(\"Ashwin\")\n",
    "Scores"
   ]
  },
  {
   "cell_type": "code",
   "execution_count": 29,
   "id": "68ad35f1-b662-4a66-9f12-16eaf0648948",
   "metadata": {},
   "outputs": [
    {
     "data": {
      "text/plain": [
       "70"
      ]
     },
     "execution_count": 29,
     "metadata": {},
     "output_type": "execute_result"
    }
   ],
   "source": [
    "Scores.get(\"Rohit\")"
   ]
  },
  {
   "cell_type": "code",
   "execution_count": 31,
   "id": "f45ea197-2edb-44e9-9861-ea95ac6c85f1",
   "metadata": {},
   "outputs": [
    {
     "data": {
      "text/plain": [
       "{'A': None, 'B': None, 'C': None, 'D': None}"
      ]
     },
     "execution_count": 31,
     "metadata": {},
     "output_type": "execute_result"
    }
   ],
   "source": [
    "# fromkeys() to create a new dict\n",
    "list1 = [\"A\",\"B\",\"C\",\"D\"]\n",
    "my_dict = dict.fromkeys(list1)\n",
    "my_dict"
   ]
  },
  {
   "cell_type": "code",
   "execution_count": 33,
   "id": "0137fe2a-371e-44e8-a41d-9e1ab93e5573",
   "metadata": {},
   "outputs": [
    {
     "data": {
      "text/plain": [
       "{'A': 10, 'B': 20, 'C': None, 'D': None}"
      ]
     },
     "execution_count": 33,
     "metadata": {},
     "output_type": "execute_result"
    }
   ],
   "source": [
    "my_dict.update({\"A\":10,\"B\":20})\n",
    "my_dict"
   ]
  },
  {
   "cell_type": "code",
   "execution_count": 35,
   "id": "1567e570-abef-49b9-be5c-67f11bc5f26e",
   "metadata": {},
   "outputs": [
    {
     "name": "stdout",
     "output_type": "stream",
     "text": [
      "dict_keys(['Virat', 'Rahul', 'Rohit', 'Hardik', 'Jadeja'])\n",
      "dict_values([90, 80, 70, 25, 100])\n",
      "dict_items([('Virat', 90), ('Rahul', 80), ('Rohit', 70), ('Hardik', 25), ('Jadeja', 100)])\n"
     ]
    }
   ],
   "source": [
    "# for loop to update Hardik score to 20\n",
    "print(Scores.keys())\n",
    "print(Scores.values())\n",
    "print(Scores.items())"
   ]
  },
  {
   "cell_type": "code",
   "execution_count": 41,
   "id": "191b22c8-2772-4acf-82a6-93bd3e6e9ced",
   "metadata": {},
   "outputs": [
    {
     "data": {
      "text/plain": [
       "{'Virat': 90, 'Rahul': 80, 'Rohit': 70, 'Hardik': 20, 'Jadeja': 100}"
      ]
     },
     "execution_count": 41,
     "metadata": {},
     "output_type": "execute_result"
    }
   ],
   "source": [
    "for k in Scores.keys():\n",
    "    if k == 'Hardik':\n",
    "        Scores[k] = 20\n",
    "Scores"
   ]
  },
  {
   "cell_type": "code",
   "execution_count": 57,
   "id": "f4364307-6361-452e-8344-8bf74d8a9237",
   "metadata": {},
   "outputs": [
    {
     "name": "stdout",
     "output_type": "stream",
     "text": [
      "[90, 80, 70, 20, 100]\n",
      "Total Score:  360\n"
     ]
    }
   ],
   "source": [
    "Scores_list = []\n",
    "for v in Scores.values():\n",
    "    Scores_list.append(v)\n",
    "print(Scores_list)\n",
    "print(\"Total Score: \", sum(Scores_list))"
   ]
  },
  {
   "cell_type": "code",
   "execution_count": 61,
   "id": "5a34596b-9538-4d4a-bf77-8629a49daef0",
   "metadata": {},
   "outputs": [
    {
     "name": "stdout",
     "output_type": "stream",
     "text": [
      "360\n",
      "Contribution of Virat to total score: 25.0\n",
      "Contribution of Rahul to total score: 22.22222222222222\n",
      "Contribution of Rohit to total score: 19.444444444444446\n",
      "Contribution of Hardik to total score: 5.555555555555555\n",
      "Contribution of Jadeja to total score: 27.77777777777778\n"
     ]
    }
   ],
   "source": [
    "total_score = sum(Scores.values())\n",
    "print(total_score)\n",
    "\n",
    "for k,v in Scores.items():\n",
    "    print(f\"Contribution of {k} to total score: {(v/total_score)*100}\")\n"
   ]
  },
  {
   "cell_type": "code",
   "execution_count": 63,
   "id": "6ff7bae6-3b08-4d8c-b238-69ce3eb9ec32",
   "metadata": {},
   "outputs": [
    {
     "name": "stdin",
     "output_type": "stream",
     "text": [
      "Enter marks for Subject 1:  50\n",
      "Enter marks for Subject 2:  60\n",
      "Enter marks for Subject 3:  30\n"
     ]
    },
    {
     "name": "stdout",
     "output_type": "stream",
     "text": [
      "Average: 46.67\n",
      "Grade: Fail\n"
     ]
    }
   ],
   "source": [
    "subject1 = float(input(\"Enter marks for Subject 1: \"))\n",
    "subject2 = float(input(\"Enter marks for Subject 2: \"))\n",
    "subject3 = float(input(\"Enter marks for Subject 3: \"))\n",
    "\n",
    "average = (subject1 + subject2 + subject3) / 3\n",
    "\n",
    "if average >= 90:\n",
    "    grade = \"A\"\n",
    "elif 80 <= average < 90:\n",
    "    grade = \"B\"\n",
    "elif 70 <= average < 80:\n",
    "    grade = \"C\"\n",
    "else:\n",
    "    grade = \"Fail\"\n",
    "\n",
    "print(f\"Average: {average:.2f}\")\n",
    "print(f\"Grade: {grade}\")\n"
   ]
  },
  {
   "cell_type": "code",
   "execution_count": null,
   "id": "449052d3-5300-41d7-8458-4b299c388fba",
   "metadata": {},
   "outputs": [],
   "source": []
  }
 ],
 "metadata": {
  "kernelspec": {
   "display_name": "Python [conda env:base] *",
   "language": "python",
   "name": "conda-base-py"
  },
  "language_info": {
   "codemirror_mode": {
    "name": "ipython",
    "version": 3
   },
   "file_extension": ".py",
   "mimetype": "text/x-python",
   "name": "python",
   "nbconvert_exporter": "python",
   "pygments_lexer": "ipython3",
   "version": "3.12.7"
  }
 },
 "nbformat": 4,
 "nbformat_minor": 5
}
